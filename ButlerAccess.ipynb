{
 "cells": [
  {
   "cell_type": "code",
   "execution_count": null,
   "id": "99d10d41-ff0f-46e6-89c5-41f82de29008",
   "metadata": {},
   "outputs": [],
   "source": [
    "from lsst.daf.butler import Butler\n",
    "from lsst.daf.butler.registry import Registry\n",
    "import lsst.summit.utils.butlerUtils as butlerUtils"
   ]
  },
  {
   "cell_type": "code",
   "execution_count": null,
   "id": "9f6467ad-8615-4742-85d4-30893acbc71b",
   "metadata": {},
   "outputs": [],
   "source": [
    "# first we're going to pull the raw images\n",
    "repo = 'embargo'\n",
    "instrument = 'LSSTComCam'\n",
    "# DRP run containing processed images\n",
    "collections = ['LSSTComCam/runs/DRP/20241101_20241211/w_2024_50/DM-48128']\n",
    "\n",
    "butler = Butler(repo, collections=collections, instrument=instrument)\n",
    "\n",
    "registry = butler.registry"
   ]
  },
  {
   "cell_type": "code",
   "execution_count": null,
   "id": "07d46fc7-9fd6-4951-bb57-ba3295924dc0",
   "metadata": {},
   "outputs": [],
   "source": [
    "day = 20241207\n",
    "datasetType = 'raw'\n",
    "block = 'BLOCK-T332'\n",
    "dims = ['exposure']\n",
    "result = registry.queryDataIds(  datasets=datasetType, dimensions = dims,\n",
    "          where = f\"day_obs = {day} and exposure.science_program='{block}'\"\n",
    "                              )\n",
    "results = [r for r in result]\n",
    "\n",
    "print (f\"got {len(results)} images\")\n"
   ]
  },
  {
   "cell_type": "code",
   "execution_count": null,
   "id": "0358a82a-85e2-4165-904a-faf9dc403d5d",
   "metadata": {},
   "outputs": [],
   "source": [
    "exp=\"\"\n",
    "exposures = []\n",
    "for r in results:\n",
    "   if r['exposure'] != exp:\n",
    "        exp=  r['exposure']\n",
    "        exposures.append(exp)\n",
    "\n",
    "print (f\"there are {len(exposures)} exposures\")\n",
    "print(exposures)\n",
    "exposure_list = exposures"
   ]
  },
  {
   "cell_type": "code",
   "execution_count": null,
   "id": "538658e5-55cc-4bb2-a4cb-05f7fca7abe4",
   "metadata": {},
   "outputs": [],
   "source": [
    "# first we see what the raw images use\n",
    "datasetRefs = registry.queryDatasets(datasetType=datasetType,\n",
    "                                     where=f'exposure = {exposures[3]}')\n",
    "\n",
    "images = []\n",
    "for count, exp in enumerate(datasetRefs):\n",
    "    #fn=f\"Rubin-{exp.dataId['exposure']}-{exp.dataId['detector']}.fits\"\n",
    "    img = butler.get(datasetType,exp.dataId)\n",
    "    images.append(exp)\n",
    "\n",
    "print(len(images))"
   ]
  },
  {
   "cell_type": "code",
   "execution_count": null,
   "id": "817e5eae-d3bd-4e67-8593-2a5960791cc5",
   "metadata": {},
   "outputs": [],
   "source": [
    "import pylab as plt\n",
    "import lsst.afw.display as afwDisplay\n",
    "\n",
    "afwDisplay.setDefaultBackend('matplotlib')\n",
    "\n",
    "for exp in images[:2]:\n",
    "    dataId=exp.dataId\n",
    "    img = butler.get('raw', dataId=dataId)\n",
    "\n",
    "    fig = plt.figure()\n",
    "    display = afwDisplay.Display()\n",
    "    display.scale('linear', 'zscale')\n",
    "    display.mtv(img)\n",
    "    plt.show()"
   ]
  },
  {
   "cell_type": "code",
   "execution_count": null,
   "id": "7d59b7a9-5c04-47b7-8981-19eee035e7d5",
   "metadata": {},
   "outputs": [],
   "source": [
    "# now we need to slightly modify to pull calexp from a different butler repo\n",
    "butler = butlerUtils.makeDefaultButler(\"LSSTComCam\")\n",
    "registry = butler.registry\n"
   ]
  },
  {
   "cell_type": "code",
   "execution_count": null,
   "id": "3df5859d-d915-4a8f-bfd9-510facfb1055",
   "metadata": {},
   "outputs": [],
   "source": [
    "day = 20241207\n",
    "datasetType = 'postISRCCD'\n",
    "dims = ['exposure']\n",
    "result = registry.queryDataIds(  datasets=datasetType, dimensions = dims,\n",
    "          where = f\"day_obs = {day}\"\n",
    "                              )\n",
    "results = [r for r in result]\n",
    "\n",
    "print (f\"got {len(results)} images\")"
   ]
  },
  {
   "cell_type": "code",
   "execution_count": null,
   "id": "fe6d80c1-d38b-4e47-9641-4d83e3dba9d9",
   "metadata": {},
   "outputs": [],
   "source": [
    "exp=\"\"\n",
    "match_exposures = []\n",
    "for r in results:\n",
    "   if r['exposure'] != exp:\n",
    "        exp=  r['exposure']\n",
    "        if exp in exposure_list:\n",
    "            match_exposures.append(exp)\n",
    "\n",
    "print (f\"there are {len(match_exposures)} matched exposures\")"
   ]
  },
  {
   "cell_type": "code",
   "execution_count": null,
   "id": "603a155b-414b-4048-be65-4a8ef2438a85",
   "metadata": {},
   "outputs": [],
   "source": [
    "datasetRefs = registry.queryDatasets(datasetType=datasetType,\n",
    "                                     where=f'exposure = {exposures[3]}')"
   ]
  },
  {
   "cell_type": "code",
   "execution_count": null,
   "id": "d27be55a-eecc-4794-a284-87abf34ad43f",
   "metadata": {},
   "outputs": [],
   "source": [
    "images = []\n",
    "for count, exp in enumerate(datasetRefs):\n",
    "    #fn=f\"Rubin-{exp.dataId['exposure']}-{exp.dataId['detector']}.fits\"\n",
    "    img = butler.get(datasetType,exp.dataId)\n",
    "    images.append(exp)\n",
    "\n",
    "print(len(images))"
   ]
  },
  {
   "cell_type": "code",
   "execution_count": null,
   "id": "4e66e589-b6db-423d-ae7f-e7e9fd6898e0",
   "metadata": {},
   "outputs": [],
   "source": [
    "for exp in images[:2]:\n",
    "    dataId=exp.dataId\n",
    "    img = butler.get('postISRCCD', dataId=dataId)\n",
    "\n",
    "    fig = plt.figure()\n",
    "    display = afwDisplay.Display()\n",
    "    display.scale('linear', 'zscale')\n",
    "    display.mtv(img)\n",
    "    plt.show()"
   ]
  },
  {
   "cell_type": "code",
   "execution_count": null,
   "id": "507a62e0-5924-4b82-9c08-366e19ac15b5",
   "metadata": {},
   "outputs": [],
   "source": []
  },
  {
   "cell_type": "code",
   "execution_count": null,
   "id": "67f004af-de63-4a09-854f-876a69c9d0e6",
   "metadata": {},
   "outputs": [],
   "source": []
  }
 ],
 "metadata": {
  "kernelspec": {
   "display_name": "LSST",
   "language": "python",
   "name": "lsst"
  },
  "language_info": {
   "codemirror_mode": {
    "name": "ipython",
    "version": 3
   },
   "file_extension": ".py",
   "mimetype": "text/x-python",
   "name": "python",
   "nbconvert_exporter": "python",
   "pygments_lexer": "ipython3",
   "version": "3.11.9"
  }
 },
 "nbformat": 4,
 "nbformat_minor": 5
}
